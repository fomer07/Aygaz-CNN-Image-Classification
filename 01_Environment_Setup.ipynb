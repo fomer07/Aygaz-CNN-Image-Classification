{
 "cells": [
  {
   "cell_type": "markdown",
   "metadata": {
    "id": "wgmEV3UYwrEG"
   },
   "source": [
    "Google Colab already comes pre-installed with many libraries, but let's double-check. Use --upgrade to ensure you’re running the latest versions of these packages."
   ]
  },
  {
   "cell_type": "code",
   "execution_count": null,
   "metadata": {
    "id": "eI54XaaNwbDq"
   },
   "outputs": [],
   "source": [
    "# Core libraries\n",
    "!pip install --upgrade tensorflow keras matplotlib pandas numpy scikit-learn opencv-python"
   ]
  },
  {
   "cell_type": "markdown",
   "metadata": {
    "id": "H6pXqZu2w0D5"
   },
   "source": [
    "Here to work directly with GitHub repo in Colab, we are cloning it."
   ]
  },
  {
   "cell_type": "code",
   "execution_count": null,
   "metadata": {
    "id": "H12h2H4fw0tJ"
   },
   "outputs": [],
   "source": [
    "from google.colab import drive\n",
    "drive.mount('/content/drive')  # Mount Google Drive\n",
    "\n",
    "!git clone https://github.com/fomer07/Aygaz-CNN-Image-Classification.git"
   ]
  },
  {
   "cell_type": "markdown",
   "metadata": {
    "id": "tSOlGjYI7YlI"
   },
   "source": [
    "Environment Logging: Track the library versions used for reproducibility:"
   ]
  },
  {
   "cell_type": "code",
   "execution_count": null,
   "metadata": {
    "id": "NEdb4XRb7ZIj"
   },
   "outputs": [],
   "source": [
    "!pip freeze > requirements.txt"
   ]
  },
  {
   "cell_type": "markdown",
   "metadata": {
    "id": "wQMoByRX7db0"
   },
   "source": [
    "This generates a **requirements.txt** file, which can be useful for newcomers."
   ]
  },
  {
   "cell_type": "code",
   "execution_count": null,
   "metadata": {
    "id": "Bw3FgAbQ7bGl"
   },
   "outputs": [],
   "source": [
    "!pip install jupytext"
   ]
  },
  {
   "cell_type": "code",
   "execution_count": null,
   "metadata": {
    "id": "LxwR-9qC7hol",
    "lines_to_next_cell": 2
   },
   "outputs": [],
   "source": [
    "!jupytext --set-formats ipynb,py /content/drive/MyDrive/Colab\\ Notebooks/Aygaz-CNN-Image-Classification/01_Environment_Setup.ipynb"
   ]
  },
  {
   "cell_type": "code",
   "execution_count": null,
   "metadata": {
    "id": "2mhKJ4j77rtW"
   },
   "outputs": [],
   "source": []
  }
 ],
 "metadata": {
  "colab": {
   "authorship_tag": "ABX9TyOGo2mlYK8gnUKvbMT59fu5",
   "provenance": []
  },
  "jupytext": {
   "formats": "ipynb,py",
   "main_language": "python"
  },
  "kernelspec": {
   "display_name": "Python 3",
   "name": "python3"
  },
  "language_info": {
   "name": "python"
  }
 },
 "nbformat": 4,
 "nbformat_minor": 0
}
